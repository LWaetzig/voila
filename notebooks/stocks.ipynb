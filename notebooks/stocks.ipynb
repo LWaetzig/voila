{
 "cells": [
  {
   "cell_type": "code",
   "execution_count": 24,
   "id": "8149bc69",
   "metadata": {},
   "outputs": [],
   "source": [
    "from src.stocks import get_stock\n",
    "import ipywidgets as widgets"
   ]
  },
  {
   "cell_type": "code",
   "execution_count": 25,
   "id": "2a2a98b3",
   "metadata": {
    "scrolled": false
   },
   "outputs": [
    {
     "data": {
      "application/vnd.jupyter.widget-view+json": {
       "model_id": "16ec1b022f5c48a9aaa126a1d9bb75bf",
       "version_major": 2,
       "version_minor": 0
      },
      "text/plain": [
       "interactive(children=(Text(value='DAX', description='stock_name'), Text(value='3y', description='period'), Out…"
      ]
     },
     "metadata": {},
     "output_type": "display_data"
    }
   ],
   "source": [
    "widgets.interact(get_stock , a = [\"1y\" , \"2y\" , \"3y\" , \"all\"] , b = [\"AAPL\" , \"TSLA\" , \"DAX\"] );"
   ]
  },
  {
   "cell_type": "code",
   "execution_count": null,
   "id": "e6dbf894",
   "metadata": {},
   "outputs": [],
   "source": []
  }
 ],
 "metadata": {
  "kernelspec": {
   "display_name": "Python 3 (ipykernel)",
   "language": "python",
   "name": "python3"
  },
  "language_info": {
   "codemirror_mode": {
    "name": "ipython",
    "version": 3
   },
   "file_extension": ".py",
   "mimetype": "text/x-python",
   "name": "python",
   "nbconvert_exporter": "python",
   "pygments_lexer": "ipython3",
   "version": "3.8.6"
  }
 },
 "nbformat": 4,
 "nbformat_minor": 5
}
