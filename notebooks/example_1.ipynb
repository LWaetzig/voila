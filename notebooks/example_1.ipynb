{
 "cells": [
  {
   "cell_type": "markdown",
   "id": "8c9f7c43",
   "metadata": {},
   "source": [
    "# IMPORTS"
   ]
  },
  {
   "cell_type": "code",
   "execution_count": 2,
   "id": "c4e752bc",
   "metadata": {},
   "outputs": [],
   "source": [
    "from ipywidgets import widgets , interactive\n",
    "import matplotlib.pyplot as plt\n",
    "import numpy as np"
   ]
  },
  {
   "cell_type": "markdown",
   "id": "9679c980",
   "metadata": {},
   "source": [
    "## Using ipywidgets"
   ]
  },
  {
   "cell_type": "code",
   "execution_count": 3,
   "id": "1985ef7d",
   "metadata": {},
   "outputs": [
    {
     "data": {
      "application/vnd.jupyter.widget-view+json": {
       "model_id": "33f7a0c8df9d4c40a25a3cd51e0d7792",
       "version_major": 2,
       "version_minor": 0
      },
      "text/plain": [
       "VBox(children=(FloatSlider(value=4.0, description='x'), FloatText(value=16.0, description='$x^2$', disabled=Tr…"
      ]
     },
     "metadata": {},
     "output_type": "display_data"
    }
   ],
   "source": [
    "slider = widgets.FloatSlider(description=\"x\")\n",
    "text = widgets.FloatText(disabled=True , description=\"$x^2$\")\n",
    "text.disabled\n",
    "\n",
    "def calculate(*skip):\n",
    "    text.value = str(slider.value ** 2)\n",
    "    \n",
    "slider.observe(calculate, \"value\")\n",
    "\n",
    "slider.value = 4\n",
    "\n",
    "widgets.VBox([slider, text])"
   ]
  },
  {
   "cell_type": "code",
   "execution_count": 4,
   "id": "d801b0be",
   "metadata": {},
   "outputs": [
    {
     "data": {
      "application/vnd.jupyter.widget-view+json": {
       "model_id": "f3e1c1ee83994ad6843bdcb4ca74e752",
       "version_major": 2,
       "version_minor": 0
      },
      "text/plain": [
       "interactive(children=(IntSlider(value=0, description='a', max=10, min=-10), IntSlider(value=0, description='b'…"
      ]
     },
     "metadata": {},
     "output_type": "display_data"
    }
   ],
   "source": [
    "%matplotlib inline\n",
    "\n",
    "def f(a, b,c):\n",
    "    plt.figure(2)\n",
    "    x = np.linspace(-10, 10, num=1000) \n",
    "    plt.plot(x, a*x**2 + b*x+c)\n",
    "    plt.ylim(-50, 50)\n",
    "    plt.show()\n",
    "\n",
    "interactive_plot = interactive(f, a=(-10,10), b=(-10, 10, 1),c=(-10,10,1))\n",
    "output = interactive_plot.children[-1]\n",
    "output.layout.height = '500px'\n",
    "interactive_plot"
   ]
  },
  {
   "cell_type": "code",
   "execution_count": null,
   "id": "9ebf7508",
   "metadata": {},
   "outputs": [],
   "source": []
  }
 ],
 "metadata": {
  "kernelspec": {
   "display_name": "Python 3 (ipykernel)",
   "language": "python",
   "name": "python3"
  },
  "language_info": {
   "codemirror_mode": {
    "name": "ipython",
    "version": 3
   },
   "file_extension": ".py",
   "mimetype": "text/x-python",
   "name": "python",
   "nbconvert_exporter": "python",
   "pygments_lexer": "ipython3",
   "version": "3.8.6"
  }
 },
 "nbformat": 4,
 "nbformat_minor": 5
}
