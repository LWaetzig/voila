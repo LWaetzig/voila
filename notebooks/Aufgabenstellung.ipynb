{
 "cells": [
  {
   "cell_type": "markdown",
   "metadata": {},
   "source": [
    "# Voila: Interaktive Python Webapplikationen\n",
    "gestellt von Dr. Lauer-Baré für Kurs 21DSB, Fortgeschrittene Programmierung, 2022"
   ]
  },
  {
   "cell_type": "markdown",
   "metadata": {},
   "source": [
    "* Testen Sie Voila anhand von Jupyter Notebooks mit ipywidgets\n",
    "\n",
    "* Welche Möglichkeiten gibt es Voila lokal auszuführen?\n",
    "\n",
    "* Erklären Sie Ihren Kommilitonen was Voila macht, wie man es ausführt und verwendet und wofür es gut ist\n",
    "\n"
   ]
  },
  {
   "cell_type": "markdown",
   "metadata": {},
   "source": [
    "Stichwörter: GUI, WebApp, ipywidgets, Voila"
   ]
  },
  {
   "cell_type": "markdown",
   "metadata": {},
   "source": [
    "Quellen: \n",
    "    \n",
    "[Voila Beispiel: IexFinder](https://github.com/zolabar/IexFinder)\n",
    "\n",
    "[Voila](https://blog.jupyter.org/and-voil%C3%A0-f6a2c08a4a93)\n",
    "\n",
    "[ipywidgets](https://ipywidgets.readthedocs.io/en/latest/examples/Widget%20Basics.html)\n"
   ]
  }
 ],
 "metadata": {
  "kernelspec": {
   "display_name": "Python 3 (ipykernel)",
   "language": "python",
   "name": "python3"
  },
  "language_info": {
   "codemirror_mode": {
    "name": "ipython",
    "version": 3
   },
   "file_extension": ".py",
   "mimetype": "text/x-python",
   "name": "python",
   "nbconvert_exporter": "python",
   "pygments_lexer": "ipython3",
   "version": "3.8.6"
  }
 },
 "nbformat": 4,
 "nbformat_minor": 2
}
