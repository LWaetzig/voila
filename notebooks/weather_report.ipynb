{
 "cells": [
  {
   "cell_type": "code",
   "execution_count": 2,
   "metadata": {
    "extensions": {
     "jupyter_dashboards": {
      "activeView": "grid_default",
      "version": 1,
      "views": {
       "grid_default": {
        "col": null,
        "height": 2,
        "hidden": true,
        "locked": true,
        "row": null,
        "width": 2
       }
      }
     }
    },
    "tags": []
   },
   "outputs": [
    {
     "data": {
      "text/plain": [
       "'/Users/lwaetzig/Documents/B_Studium/2_SSM_1/A_Vorlesungsmaterial/1_Programmieren II/Praesentation/voila/notebooks'"
      ]
     },
     "execution_count": 2,
     "metadata": {},
     "output_type": "execute_result"
    }
   ],
   "source": [
    "import os\n",
    "# os.chdir(\"Praesentation\")\n",
    "# os.chdir(\"voila\")\n",
    "# os.chdir(\"..\")\n",
    "os.getcwd()"
   ]
  },
  {
   "cell_type": "markdown",
   "metadata": {
    "extensions": {
     "jupyter_dashboards": {
      "activeView": "grid_default",
      "version": 1,
      "views": {
       "grid_default": {
        "col": null,
        "height": 2,
        "hidden": true,
        "locked": true,
        "row": null,
        "width": 2
       }
      }
     }
    },
    "tags": []
   },
   "source": [
    "# IMPORTS"
   ]
  },
  {
   "cell_type": "code",
   "execution_count": 18,
   "metadata": {
    "extensions": {
     "jupyter_dashboards": {
      "activeView": "grid_default",
      "version": 1,
      "views": {
       "grid_default": {
        "col": null,
        "height": 2,
        "hidden": true,
        "locked": true,
        "row": null,
        "width": 2
       }
      }
     }
    }
   },
   "outputs": [],
   "source": [
    "import datetime as dt\n",
    "import json\n",
    "import os\n",
    "\n",
    "import geopandas as gpd\n",
    "import geopy\n",
    "import matplotlib.image as mpimg\n",
    "import matplotlib.pyplot as plt\n",
    "import numpy as np\n",
    "import pandas as pd\n",
    "import pytz\n",
    "import requests\n",
    "from IPython.display import HTML, display\n",
    "import ipywidgets as widgets\n"
   ]
  },
  {
   "cell_type": "markdown",
   "metadata": {
    "extensions": {
     "jupyter_dashboards": {
      "activeView": "grid_default",
      "version": 1,
      "views": {
       "grid_default": {
        "col": null,
        "height": 2,
        "hidden": true,
        "locked": true,
        "row": null,
        "width": 2
       }
      }
     }
    }
   },
   "source": [
    "# DECLAIRE GLOBAL VARIABLES"
   ]
  },
  {
   "cell_type": "code",
   "execution_count": 4,
   "metadata": {
    "extensions": {
     "jupyter_dashboards": {
      "activeView": "grid_default",
      "version": 1,
      "views": {
       "grid_default": {
        "col": null,
        "height": 2,
        "hidden": true,
        "locked": true,
        "row": null,
        "width": 2
       }
      }
     }
    }
   },
   "outputs": [],
   "source": [
    "icons = {\n",
    "    \"sun\" : \"figures/sun.png\",\n",
    "    \"rain\" : \"figures/rain.png\",\n",
    "    \"sun_cloud\" : \"figures/sun_cloud.png\",\n",
    "    \"cloud\" : \"figures/cloud.png\",\n",
    "    \"wind\" : \"figures/wind.png\",\n",
    "}\n",
    "# define global vairables\n",
    "API_KEY = \"0903f43c667c445d4a0c16920ef81c36\"\n",
    "SHAPE_FILE = \"data/germany_geo.json\""
   ]
  },
  {
   "cell_type": "markdown",
   "metadata": {},
   "source": [
    "## Layout"
   ]
  },
  {
   "cell_type": "markdown",
   "metadata": {},
   "source": [
    "### Widgets"
   ]
  },
  {
   "cell_type": "code",
   "execution_count": 29,
   "metadata": {},
   "outputs": [
    {
     "data": {
      "application/vnd.jupyter.widget-view+json": {
       "model_id": "b90debee2a504171a357cfdfa8916003",
       "version_major": 2,
       "version_minor": 0
      },
      "text/plain": [
       "Textarea(value='Please enter a city name')"
      ]
     },
     "metadata": {},
     "output_type": "display_data"
    }
   ],
   "source": [
    "textfield = widgets.Textarea(value=\"Please enter a city name\")\n",
    "display(textfield)"
   ]
  },
  {
   "cell_type": "code",
   "execution_count": 35,
   "metadata": {},
   "outputs": [
    {
     "data": {
      "text/plain": [
       "'Dresden'"
      ]
     },
     "execution_count": 35,
     "metadata": {},
     "output_type": "execute_result"
    }
   ],
   "source": [
    "textfield.value"
   ]
  },
  {
   "cell_type": "markdown",
   "metadata": {},
   "source": [
    "### HTML LAYOUT"
   ]
  },
  {
   "cell_type": "code",
   "execution_count": 5,
   "metadata": {
    "extensions": {
     "jupyter_dashboards": {
      "activeView": "grid_default",
      "version": 1,
      "views": {
       "grid_default": {
        "col": 0,
        "height": 3,
        "hidden": false,
        "locked": false,
        "row": 0,
        "width": 12
       }
      }
     }
    },
    "tags": []
   },
   "outputs": [
    {
     "data": {
      "text/html": [
       "<h1 style=\"font-size:30px;\"><center>WEATHER DASHBOARD</center></h1>"
      ],
      "text/plain": [
       "<IPython.core.display.HTML object>"
      ]
     },
     "execution_count": 5,
     "metadata": {},
     "output_type": "execute_result"
    }
   ],
   "source": [
    "# create Header using HTML\n",
    "title='WEATHER DASHBOARD'\n",
    "HTML('<h1 style=\"font-size:30px;\"><center>%s</center></h1>'%title)"
   ]
  },
  {
   "cell_type": "code",
   "execution_count": 6,
   "metadata": {},
   "outputs": [
    {
     "data": {
      "text/html": [
       "<h2 style=\"font-size:24px;\"><center>Weather in whole Germany</center></h2>"
      ],
      "text/plain": [
       "<IPython.core.display.HTML object>"
      ]
     },
     "execution_count": 6,
     "metadata": {},
     "output_type": "execute_result"
    }
   ],
   "source": [
    "subtitle1=\"Weather in whole Germany\"\n",
    "HTML('<h2 style=\"font-size:24px;\"><center>%s</center></h2>'%subtitle1)"
   ]
  },
  {
   "cell_type": "code",
   "execution_count": 36,
   "metadata": {},
   "outputs": [
    {
     "data": {
      "text/html": [
       "<h2 style=\"font-size:24px;\"><center>Weather today in DRESDEN</center></h2>"
      ],
      "text/plain": [
       "<IPython.core.display.HTML object>"
      ]
     },
     "execution_count": 36,
     "metadata": {},
     "output_type": "execute_result"
    }
   ],
   "source": [
    "value = str(textfield.value).upper()\n",
    "subtitle2 = f\"Weather today in {value}\"\n",
    "HTML('<h2 style=\"font-size:24px;\"><center>%s</center></h2>'%subtitle2)"
   ]
  },
  {
   "cell_type": "markdown",
   "metadata": {
    "extensions": {
     "jupyter_dashboards": {
      "activeView": "grid_default",
      "version": 1,
      "views": {
       "grid_default": {
        "col": null,
        "height": 2,
        "hidden": true,
        "locked": true,
        "row": null,
        "width": 2
       }
      }
     }
    }
   },
   "source": [
    "## Function to get weather data for one specific \n",
    "The following function requests data from openweather api, prepare and store them in a pd.DataFrame. You have to pass a name of a city located in germany and the api key (already definded)\n"
   ]
  },
  {
   "cell_type": "code",
   "execution_count": 10,
   "metadata": {
    "extensions": {
     "jupyter_dashboards": {
      "activeView": "grid_default",
      "version": 1,
      "views": {
       "grid_default": {
        "col": null,
        "height": 2,
        "hidden": true,
        "locked": true,
        "row": null,
        "width": 2
       }
      }
     }
    },
    "jupyter": {
     "source_hidden": true
    },
    "tags": []
   },
   "outputs": [],
   "source": [
    "def get_weather_data_city(\n",
    "    city_name: str,\n",
    "    api_key: str\n",
    ")-> pd.DataFrame:\n",
    "    \"\"\"function to get weather data for one specific city\n",
    "\n",
    "    Args:\n",
    "        city_name (str): name of city in germany\n",
    "        api_key (str): necessary authentification to create api request\n",
    "\n",
    "    Returns:\n",
    "        pd.DataFrame: filled DataFrame with weather data from api\n",
    "    \"\"\"\n",
    "\n",
    "    # get longitude and latitude for given city\n",
    "    service = geopy.Nominatim(user_agent=\"myGeocoder\")\n",
    "    Location = service.geocode(f\"{city_name}, Germany\")\n",
    "\n",
    "    # try to request api and store weather data\n",
    "    try:\n",
    "        url = (\n",
    "            \"https://api.openweathermap.org/data/2.5/onecall?lat=%s&lon=%s&appid=%s&units=metric\"\n",
    "            % (Location.latitude, Location.longitude, api_key)\n",
    "        )\n",
    "        response = requests.get(url)\n",
    "        data = json.loads(response.text)\n",
    "    except Exception as e:\n",
    "        print(f\"something went wrong: {e}\")\n",
    "\n",
    "    # if there is a failure code in the dataset stop and return None\n",
    "    if \"cod\" in data.keys():\n",
    "        print(data[\"cod\"], data[\"message\"])\n",
    "        return None\n",
    "\n",
    "    else:\n",
    "        # only select hourly data from api request\n",
    "        forecast = data[\"hourly\"]\n",
    "\n",
    "        # create, fill DataFrame for weather data and set timestamps as index\n",
    "        weather_df = pd.DataFrame()\n",
    "        weather_df[\"date\"] = [\n",
    "            dt.datetime.fromtimestamp(entry[\"dt\"], pytz.timezone(\"Europe/Berlin\"))\n",
    "            for entry in forecast\n",
    "        ]\n",
    "        weather_df[\"temp\"] = [entry[\"temp\"] for entry in forecast]\n",
    "        weather_df[\"feels_like\"] = [entry[\"feels_like\"] for entry in forecast]\n",
    "        weather_df[\"pressure\"] = [entry[\"pressure\"] for entry in forecast]\n",
    "        weather_df[\"uvi\"] = [entry[\"uvi\"] for entry in forecast]\n",
    "        weather_df[\"clouds\"] = [entry[\"clouds\"] for entry in forecast]\n",
    "        weather_df[\"weather\"] = [entry[\"weather\"][0][\"main\"] for entry in forecast]\n",
    "        weather_df = weather_df.set_index(\"date\", drop=True)\n",
    "\n",
    "        return weather_df"
   ]
  },
  {
   "cell_type": "markdown",
   "metadata": {
    "extensions": {
     "jupyter_dashboards": {
      "activeView": "grid_default",
      "version": 1,
      "views": {
       "grid_default": {
        "col": null,
        "height": 2,
        "hidden": true,
        "locked": true,
        "row": null,
        "width": 2
       }
      }
     }
    }
   },
   "source": [
    "### Vizualize data\n",
    "-> using Matplotlib"
   ]
  },
  {
   "cell_type": "code",
   "execution_count": 38,
   "metadata": {
    "extensions": {
     "jupyter_dashboards": {
      "activeView": "grid_default",
      "version": 1,
      "views": {
       "grid_default": {
        "col": 0,
        "height": 14,
        "hidden": false,
        "locked": false,
        "row": 3,
        "width": 8
       }
      }
     }
    },
    "tags": []
   },
   "outputs": [
    {
     "data": {
      "image/png": "[encoded data removed]",
      "text/plain": [
       "<Figure size 864x576 with 1 Axes>"
      ]
     },
     "metadata": {
      "needs_background": "light"
     },
     "output_type": "display_data"
    }
   ],
   "source": [
    "df = get_weather_data_city(city_name=textfield.value , api_key=API_KEY)\n",
    "\n",
    "# define local maximum \n",
    "ymax = max(df[\"temp\"])\n",
    "xpos = np.where(df[\"temp\"] == ymax)\n",
    "xmax = df.index[xpos]\n",
    "\n",
    "# create figure to plot\n",
    "fig , axes = plt.subplots(figsize=(12,8))\n",
    "# add to plots for temperature and feels like\n",
    "axes.plot(df.index , df[\"temp\"] , color = \"tab:red\" , label = \"actual temp\")\n",
    "axes.plot(df.index , df[\"feels_like\"] , color = \"tab:orange\" , label = \"feels like\")\n",
    "axes.set_title(f\"{textfield.value}: Weather forecast per hour\")\n",
    "axes.set_ylabel(\"temperature in °C\")\n",
    "axes.set_xlabel(\"date\")\n",
    "axes.legend(loc=\"upper right\");\n",
    "axes.annotate(f\"{ymax} °C\", xy=(xmax, ymax), xytext=(xmax, ymax + 0.25),);\n"
   ]
  },
  {
   "cell_type": "markdown",
   "metadata": {
    "extensions": {
     "jupyter_dashboards": {
      "activeView": "grid_default",
      "version": 1,
      "views": {
       "grid_default": {
        "col": null,
        "height": 2,
        "hidden": true,
        "locked": true,
        "row": null,
        "width": 2
       }
      }
     }
    }
   },
   "source": [
    "## Weather data for whole Germany\n",
    "The following function requests data from openweather api depending on the capital for each federal state, prepare and store the data in pd.DataFrame. The DataFrame also contains geological data of germany to visualize the weather data."
   ]
  },
  {
   "cell_type": "code",
   "execution_count": 19,
   "metadata": {
    "extensions": {
     "jupyter_dashboards": {
      "activeView": "grid_default",
      "version": 1,
      "views": {
       "grid_default": {
        "col": null,
        "height": 2,
        "hidden": true,
        "locked": true,
        "row": null,
        "width": 2
       }
      }
     }
    }
   },
   "outputs": [],
   "source": [
    "def get_weather_data_germany(\n",
    "    api_key: str,\n",
    "    shape_file: str,\n",
    ") -> pd.DataFrame:\n",
    "    \"\"\"get geological data using shapefile and weather data using api request from openweather-api\n",
    "\n",
    "    Args:\n",
    "        api_key (str): necessary authentification to create api request\n",
    "        shape_file (str): shape file for germany map used to plot with geopandas\n",
    "\n",
    "    Returns:\n",
    "        pd.DataFrame: prepared DataFrame\n",
    "    \"\"\"\n",
    "\n",
    "    # read in shapefile and remove unnecessary columns\n",
    "    germany = gpd.read_file(shape_file)\n",
    "    germany = germany.drop(columns=[\"type\", \"id\"])\n",
    "\n",
    "    # add capitals for each federal state\n",
    "    capital = [\n",
    "        \"Stuttgart\",\n",
    "        \"Muenchen\",\n",
    "        \"Berlin\",\n",
    "        \"Potsdam\",\n",
    "        \"Bremen\",\n",
    "        \"Hamburg\",\n",
    "        \"Wiesbaden\",\n",
    "        \"Schwerin\",\n",
    "        \"Hannover\",\n",
    "        \"Düsseldorf\",\n",
    "        \"Mainz\",\n",
    "        \"Saarbrücken\",\n",
    "        \"Magdeburg\",\n",
    "        \"Dresden\",\n",
    "        \"Kiel\",\n",
    "        \"Erfurt\",\n",
    "    ]\n",
    "    germany[\"capital\"] = capital\n",
    "\n",
    "    # get latitude and longitude for each capital and append it to DataFrame\n",
    "    service = geopy.Nominatim(user_agent=\"myGeocoder\")\n",
    "    for i, row in germany.iterrows():\n",
    "        location = service.geocode(f\"{row['capital']}, Germany\")\n",
    "        germany.loc[i, \"lat\"] = location.latitude\n",
    "        germany.loc[i, \"lon\"] = location.longitude\n",
    "\n",
    "    # get current weather data for each capital in DataFrame\n",
    "    for i, row in germany.iterrows():\n",
    "        try:\n",
    "            url = (\n",
    "                \"https://api.openweathermap.org/data/2.5/onecall?lat=%s&lon=%s&appid=%s&units=metric\"\n",
    "                % (row[\"lat\"], row[\"lon\"], api_key)\n",
    "            )\n",
    "            response = requests.get(url)\n",
    "            data = json.loads(response.text)\n",
    "        except Exception as e:\n",
    "            print(e)\n",
    "\n",
    "        # if there is a failue code in dataset continue with next city\n",
    "        if \"cod\" in data.keys():\n",
    "            print(row[\"name\"], data[\"message\"])\n",
    "            continue\n",
    "\n",
    "        # fill DataFrame with weather data from api request\n",
    "        else:\n",
    "            germany.loc[i, \"temp\"] = data[\"current\"][\"temp\"]\n",
    "            germany.loc[i, \"feels_like\"] = data[\"current\"][\"feels_like\"]\n",
    "            germany.loc[i, \"weather_type\"] = data[\"current\"][\"weather\"][0][\"main\"]\n",
    "            germany.loc[i, \"pressure\"] = data[\"current\"][\"pressure\"]\n",
    "            germany.loc[i, \"uvi\"] = data[\"current\"][\"uvi\"]\n",
    "            germany.loc[i, \"clouds\"] = data[\"current\"][\"clouds\"]\n",
    "\n",
    "    return germany"
   ]
  },
  {
   "cell_type": "markdown",
   "metadata": {
    "extensions": {
     "jupyter_dashboards": {
      "activeView": "grid_default",
      "version": 1,
      "views": {
       "grid_default": {
        "col": null,
        "height": 2,
        "hidden": true,
        "locked": true,
        "row": null,
        "width": 2
       }
      }
     }
    }
   },
   "source": [
    "### Vizualize Germany-map\n",
    "-> using geopandas"
   ]
  },
  {
   "cell_type": "code",
   "execution_count": 20,
   "metadata": {
    "extensions": {
     "jupyter_dashboards": {
      "activeView": "grid_default",
      "version": 1,
      "views": {
       "grid_default": {
        "col": 8,
        "height": 14,
        "hidden": false,
        "locked": false,
        "row": 3,
        "width": 4
       }
      }
     }
    },
    "tags": []
   },
   "outputs": [
    {
     "data": {
      "text/plain": [
       "Text(0.5, 1.0, 'Weather in Germany')"
      ]
     },
     "execution_count": 20,
     "metadata": {},
     "output_type": "execute_result"
    },
    {
     "data": {
      "image/png": "[encoded data removed]",
      "text/plain": [
       "<Figure size 864x576 with 2 Axes>"
      ]
     },
     "metadata": {
      "needs_background": "light"
     },
     "output_type": "display_data"
    }
   ],
   "source": [
    "df_germany = get_weather_data_germany(API_KEY, SHAPE_FILE)\n",
    "df_germany.plot(column=\"temp\", legend=True, cmap=\"OrRd\" , figsize=(12,8)).set_axis_off()"
   ]
  },
  {
   "cell_type": "code",
   "execution_count": null,
   "metadata": {
    "extensions": {
     "jupyter_dashboards": {
      "activeView": "grid_default",
      "views": {
       "grid_default": {
        "col": null,
        "height": 2,
        "hidden": true,
        "locked": true,
        "row": null,
        "width": 2
       }
      }
     }
    }
   },
   "outputs": [],
   "source": []
  }
 ],
 "metadata": {
  "extensions": {
   "jupyter_dashboards": {
    "activeView": "grid_default",
    "version": 1,
    "views": {
     "grid_default": {
      "cellMargin": 5,
      "defaultCellHeight": 40,
      "maxColumns": 12,
      "name": "grid",
      "type": "grid"
     }
    }
   }
  },
  "kernelspec": {
   "display_name": "Python 3 (ipykernel)",
   "language": "python",
   "name": "python3"
  },
  "language_info": {
   "codemirror_mode": {
    "name": "ipython",
    "version": 3
   },
   "file_extension": ".py",
   "mimetype": "text/x-python",
   "name": "python",
   "nbconvert_exporter": "python",
   "pygments_lexer": "ipython3",
   "version": "3.8.6"
  },
  "vscode": {
   "interpreter": {
    "hash": "46464266bf84e4412ab97fbe4cc50aa77a53bf239155a23fa864de823daa7182"
   }
  }
 },
 "nbformat": 4,
 "nbformat_minor": 4
}
