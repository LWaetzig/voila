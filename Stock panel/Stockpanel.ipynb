{
 "cells": [
  {
   "cell_type": "code",
   "execution_count": 22,
   "id": "a027940d",
   "metadata": {},
   "outputs": [],
   "source": [
    "import matplotlib \n",
    "from IPython.display import display\n",
    "import yfinance as yf\n",
    "import ipywidgets as widgets\n",
    "output = widgets.Output()"
   ]
  },
  {
   "cell_type": "code",
   "execution_count": 23,
   "id": "096a5266",
   "metadata": {},
   "outputs": [],
   "source": [
    "button = widgets.Button(\n",
    "    description='Show history',\n",
    "    disabled=False,\n",
    "    button_style='', \n",
    "    tooltip='Become a financial master',\n",
    ")"
   ]
  },
  {
   "cell_type": "code",
   "execution_count": 24,
   "id": "0ceb429c",
   "metadata": {},
   "outputs": [],
   "source": [
    "def on_button_clicked(self):\n",
    "    with output:\n",
    "        ticker = yf.Ticker(dropdown.value)\n",
    "        data = ticker.history(start= timestart.value, end= timeend.value)\n",
    "        data['Close'].plot(title=f\"{dropdown.value}'s stock price history\", color=\"green\", xlabel=\"Date\", ylabel=\"USD\")\n",
    "button.on_click(on_button_clicked)"
   ]
  },
  {
   "cell_type": "code",
   "execution_count": 25,
   "id": "dc26600e",
   "metadata": {},
   "outputs": [],
   "source": [
    "dropdown= widgets.Dropdown(\n",
    "    options=[(\"Accenture\", \"ACN\"), (\"Siemens\", \"SIE.DE\"), (\"Gamestop\", \"GME\"), (\"Netflix\", \"NFLX\"), (\"Apple\", \"AAPL\"), \n",
    "             (\"Microsoft\", \"MSFT\"), (\"Amazon\", \"AMZN\"),(\"Bitcoin\", \"BTC-USD\"), (\"Ethereum\", \"ETH-USD\"), (\"Dogecoin :D\", \"DOGE-USD\")],\n",
    "    value=\"ACN\",\n",
    "    description='Choose:',\n",
    ")"
   ]
  },
  {
   "cell_type": "code",
   "execution_count": 26,
   "id": "f902784c",
   "metadata": {},
   "outputs": [],
   "source": [
    "timestart=widgets.DatePicker(\n",
    "    description='Starting time: ',\n",
    "    disabled=False\n",
    ")"
   ]
  },
  {
   "cell_type": "code",
   "execution_count": 27,
   "id": "7488c5ec",
   "metadata": {},
   "outputs": [],
   "source": [
    "timeend=widgets.DatePicker(\n",
    "    description='End time: ',\n",
    "    disabled=False\n",
    ")"
   ]
  },
  {
   "cell_type": "code",
   "execution_count": null,
   "id": "2f8b8691",
   "metadata": {},
   "outputs": [],
   "source": [
    "display(dropdown)\n",
    "display(timestart)\n",
    "display(timeend)\n",
    "display(button)"
   ]
  }
 ],
 "metadata": {
  "interpreter": {
   "hash": "912f72fea146018c6fed61701a504994dbf649bddad330fb66aeb6823f7231e6"
  },
  "kernelspec": {
   "display_name": "Python 3 (ipykernel)",
   "language": "python",
   "name": "python3"
  },
  "language_info": {
   "codemirror_mode": {
    "name": "ipython",
    "version": 3
   },
   "file_extension": ".py",
   "mimetype": "text/x-python",
   "name": "python",
   "nbconvert_exporter": "python",
   "pygments_lexer": "ipython3",
   "version": "3.10.4"
  }
 },
 "nbformat": 4,
 "nbformat_minor": 5
}
