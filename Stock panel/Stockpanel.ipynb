{
 "cells": [
  {
   "cell_type": "code",
   "execution_count": 228,
   "id": "a027940d",
   "metadata": {},
   "outputs": [],
   "source": [
    "import matplotlib \n",
    "import mplcursors as cur\n",
    "import yfinance as yf\n",
    "import ipywidgets as widgets"
   ]
  },
  {
   "cell_type": "code",
   "execution_count": null,
   "id": "74573edf",
   "metadata": {},
   "outputs": [],
   "source": [
    "def showhistory():\n",
    "    ticker = yf.Ticker(dropdown.value)\n",
    "    data = ticker.history(start= timestart.value, end= timeend.value)\n",
    "    fig = data['Close'].plot(title=f\"{dropdown.value}'s stock price history\", color=\"green\", xlabel=\"Date\", ylabel=\"USD\")\n",
    "    return fig\n",
    "\n",
    "   \n"
   ]
  },
  {
   "cell_type": "code",
   "execution_count": null,
   "id": "2474df4d",
   "metadata": {},
   "outputs": [],
   "source": [
    "def comparehistory():\n",
    "    ticker = yf.Ticker(dropdown.value)\n",
    "    data = ticker.history(start= timestart.value, end= timeend.value)\n",
    "    fig = data['Close'].plot(title=f\"{dropdown.label}'s stock price history\", color=\"green\")\n",
    "    return fig\n"
   ]
  },
  {
   "cell_type": "code",
   "execution_count": null,
   "id": "dc26600e",
   "metadata": {},
   "outputs": [
    {
     "data": {
      "application/vnd.jupyter.widget-view+json": {
       "model_id": "def8bf2843ea4aceaf9775a8d94936f4",
       "version_major": 2,
       "version_minor": 0
      },
      "text/plain": [
       "Dropdown(description='Choose:', options=(('Accenture', 'ACN'), ('Siemens', 'SIE.DE'), ('Gamestop', 'GME'), ('N…"
      ]
     },
     "metadata": {},
     "output_type": "display_data"
    }
   ],
   "source": [
    "dropdown= widgets.Dropdown(\n",
    "    options=[(\"Accenture\", \"ACN\"), (\"Siemens\", \"SIE.DE\"), (\"Gamestop\", \"GME\"), (\"Netflix\", \"NFLX\"), (\"Apple\", \"AAPL\"), (\"Microsoft\", \"MSFT\"), (\"Amazon\", \"AMZN\"),\n",
    "    (\"Bitcoin\", \"BTC-USD\"), (\"Ethereum\", \"ETH-USD\"), (\"Dogecoin :D\", \"DOGE-USD\")],\n",
    "    value=\"ACN\",\n",
    "    description='Choose:',\n",
    ")\n",
    "display(dropdown)\n"
   ]
  },
  {
   "cell_type": "code",
   "execution_count": null,
   "id": "f902784c",
   "metadata": {},
   "outputs": [
    {
     "data": {
      "application/vnd.jupyter.widget-view+json": {
       "model_id": "742616e37b784e588728cd0329d47cb4",
       "version_major": 2,
       "version_minor": 0
      },
      "text/plain": [
       "DatePicker(value=None, description='Starting time: ')"
      ]
     },
     "metadata": {},
     "output_type": "display_data"
    }
   ],
   "source": [
    "timestart=widgets.DatePicker(\n",
    "    description='Starting time: ',\n",
    "    disabled=False\n",
    ")\n",
    "display(timestart)"
   ]
  },
  {
   "cell_type": "code",
   "execution_count": null,
   "id": "7488c5ec",
   "metadata": {},
   "outputs": [
    {
     "data": {
      "application/vnd.jupyter.widget-view+json": {
       "model_id": "e40d019eeaca41b99feae6dd6de72fdf",
       "version_major": 2,
       "version_minor": 0
      },
      "text/plain": [
       "DatePicker(value=None, description='End time: ')"
      ]
     },
     "metadata": {},
     "output_type": "display_data"
    }
   ],
   "source": [
    "timeend=widgets.DatePicker(\n",
    "    description='End time: ',\n",
    "    disabled=False\n",
    ")\n",
    "display(timeend)"
   ]
  },
  {
   "cell_type": "code",
   "execution_count": null,
   "id": "09a5ab21",
   "metadata": {},
   "outputs": [
    {
     "data": {
      "application/vnd.jupyter.widget-view+json": {
       "model_id": "2ce04666343a4b1f87a928fe847dfc53",
       "version_major": 2,
       "version_minor": 0
      },
      "text/plain": [
       "Button(description='Show history', icon='magnifying-glass', style=ButtonStyle(), tooltip='Become a financial m…"
      ]
     },
     "metadata": {},
     "output_type": "display_data"
    },
    {
     "data": {
      "image/png": "[encoded data removed]",
      "text/plain": [
       "<Figure size 432x288 with 1 Axes>"
      ]
     },
     "metadata": {
      "needs_background": "light"
     },
     "output_type": "display_data"
    }
   ],
   "source": [
    "button = widgets.Button(\n",
    "    description='Show history',\n",
    "    disabled=False,\n",
    "    button_style='', \n",
    "    tooltip='Become a financial master',\n",
    "    icon='magnifying-glass' # (FontAwesome names without the `fa-` prefix)\n",
    ")\n",
    "display(button)\n",
    "button.on_click(showhistory())\n",
    "\n",
    "\n"
   ]
  }
 ],
 "metadata": {
  "interpreter": {
   "hash": "912f72fea146018c6fed61701a504994dbf649bddad330fb66aeb6823f7231e6"
  },
  "kernelspec": {
   "display_name": "Python 3.10.4 64-bit",
   "language": "python",
   "name": "python3"
  },
  "language_info": {
   "codemirror_mode": {
    "name": "ipython",
    "version": 3
   },
   "file_extension": ".py",
   "mimetype": "text/x-python",
   "name": "python",
   "nbconvert_exporter": "python",
   "pygments_lexer": "ipython3",
   "version": "3.10.4"
  }
 },
 "nbformat": 4,
 "nbformat_minor": 5
}
